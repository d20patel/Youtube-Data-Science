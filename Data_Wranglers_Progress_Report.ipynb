{
 "cells": [
  {
   "cell_type": "markdown",
   "id": "ac464a24",
   "metadata": {},
   "source": [
    "# CS 418 Data Wranglers Project Progress Report"
   ]
  },
  {
   "cell_type": "markdown",
   "id": "143f1e63",
   "metadata": {},
   "source": [
    "Reeve Lood, reeveal2@uic.edu, GitHub: WarlordGandhi24 -- Umang Prajapati, upraja2@uic.edu, GitHub: umangp2924 -- Kunal Patel, kpate391@uic.edu, GitHub: kpate391 -- Rimsha Rizvi, rrizvi3@uic.edu, GitHub: rimsharizvi06 -- Deep Patel, dpate329@uic.edu, GitHub: d20patel\n",
    "\n",
    "Project GitHub: https://github.com/uic-ds-spring-2023/class-project----cs-418-spring-2023-data-wranglers"
   ]
  },
  {
   "cell_type": "markdown",
   "id": "835c56c9",
   "metadata": {},
   "source": [
    "# Project Introduction"
   ]
  },
  {
   "cell_type": "markdown",
   "id": "7df1c776",
   "metadata": {},
   "source": [
    "The data we are analyzing comes from a YouTube engagement survey by Wu et al. (GitHub: https://github.com/avalanchesiqi/youtube-engagement/blob/master/data/README.md). We are using the top_news.json file from the quality videos dataset (https://drive.google.com/drive/folders/1wZwDIR18IHPPTiH1C0dyBbGPR-3MktI7), which contains information about videos of the top 100 most viewed news channels. The question we are answering is this: How does the video topic affect viewer engagement?"
   ]
  },
  {
   "cell_type": "markdown",
   "id": "896ac879",
   "metadata": {},
   "source": [
    "# Changes"
   ]
  },
  {
   "cell_type": "markdown",
   "id": "5edc1642",
   "metadata": {},
   "source": [
    "There have been changes with the project scope. We are no longer using the YouTube 8M dataset. We are instead using the top news dataset mentioned above. Also, we have modified our question. Instead of looking at how YouTube Shorts affect viewers' attention span, we are now looking at how the video topic affects viewer engagement. We are only using news videos, but we will still determine the popular news topics and viewer engagement."
   ]
  },
  {
   "cell_type": "markdown",
   "id": "b4085712",
   "metadata": {},
   "source": [
    "# Data Cleaning"
   ]
  },
  {
   "cell_type": "markdown",
   "id": "62aaaa1a",
   "metadata": {},
   "source": [
    "The original dataframe has 6 columns, 5 of which contain dict values. First, a separate dataframe is created for each of those 5 columns. For example, from the statistics column, a new dataframe is created with the dict's keys as its columns. The NA values and duplicates are then dropped from these dataframes."
   ]
  },
  {
   "cell_type": "code",
   "execution_count": 1,
   "id": "e393d064",
   "metadata": {
    "scrolled": true
   },
   "outputs": [
    {
     "name": "stdout",
     "output_type": "stream",
     "text": [
      "Number of rows: 172110\n"
     ]
    },
    {
     "data": {
      "text/html": [
       "<div>\n",
       "<style scoped>\n",
       "    .dataframe tbody tr th:only-of-type {\n",
       "        vertical-align: middle;\n",
       "    }\n",
       "\n",
       "    .dataframe tbody tr th {\n",
       "        vertical-align: top;\n",
       "    }\n",
       "\n",
       "    .dataframe thead th {\n",
       "        text-align: right;\n",
       "    }\n",
       "</style>\n",
       "<table border=\"1\" class=\"dataframe\">\n",
       "  <thead>\n",
       "    <tr style=\"text-align: right;\">\n",
       "      <th></th>\n",
       "      <th>topicDetails</th>\n",
       "      <th>statistics</th>\n",
       "      <th>contentDetails</th>\n",
       "      <th>snippet</th>\n",
       "      <th>id</th>\n",
       "      <th>insights</th>\n",
       "    </tr>\n",
       "  </thead>\n",
       "  <tbody>\n",
       "    <tr>\n",
       "      <th>0</th>\n",
       "      <td>{'topicCategories': ['https://en.wikipedia.org...</td>\n",
       "      <td>{'commentCount': '0', 'viewCount': '701', 'fav...</td>\n",
       "      <td>{'duration': 'PT11M5S', 'definition': 'sd', 'd...</td>\n",
       "      <td>{'description': '⬇ Descargá la App de C5N para...</td>\n",
       "      <td>JEibcX5VF1M</td>\n",
       "      <td>{'startDate': '2016-08-21', 'dailyShare': '6,2...</td>\n",
       "    </tr>\n",
       "    <tr>\n",
       "      <th>1</th>\n",
       "      <td>{'topicCategories': ['https://en.wikipedia.org...</td>\n",
       "      <td>{'commentCount': '0', 'viewCount': '889', 'fav...</td>\n",
       "      <td>{'duration': 'PT4M9S', 'definition': 'sd', 'di...</td>\n",
       "      <td>{'description': '⬇ Descargá la App de C5N para...</td>\n",
       "      <td>CJwOo9Yp3Jk</td>\n",
       "      <td>{'startDate': '2016-08-10', 'dailyShare': '0,0...</td>\n",
       "    </tr>\n",
       "    <tr>\n",
       "      <th>2</th>\n",
       "      <td>{'topicCategories': ['https://en.wikipedia.org...</td>\n",
       "      <td>{'commentCount': '4', 'viewCount': '12720', 'f...</td>\n",
       "      <td>{'duration': 'PT13M11S', 'definition': 'hd', '...</td>\n",
       "      <td>{'description': '', 'title': 'C5N - Road Music...</td>\n",
       "      <td>CbdrzQPgGpI</td>\n",
       "      <td>{'startDate': '2016-07-31', 'dailyShare': '5,2...</td>\n",
       "    </tr>\n",
       "  </tbody>\n",
       "</table>\n",
       "</div>"
      ],
      "text/plain": [
       "                                        topicDetails  \\\n",
       "0  {'topicCategories': ['https://en.wikipedia.org...   \n",
       "1  {'topicCategories': ['https://en.wikipedia.org...   \n",
       "2  {'topicCategories': ['https://en.wikipedia.org...   \n",
       "\n",
       "                                          statistics  \\\n",
       "0  {'commentCount': '0', 'viewCount': '701', 'fav...   \n",
       "1  {'commentCount': '0', 'viewCount': '889', 'fav...   \n",
       "2  {'commentCount': '4', 'viewCount': '12720', 'f...   \n",
       "\n",
       "                                      contentDetails  \\\n",
       "0  {'duration': 'PT11M5S', 'definition': 'sd', 'd...   \n",
       "1  {'duration': 'PT4M9S', 'definition': 'sd', 'di...   \n",
       "2  {'duration': 'PT13M11S', 'definition': 'hd', '...   \n",
       "\n",
       "                                             snippet           id  \\\n",
       "0  {'description': '⬇ Descargá la App de C5N para...  JEibcX5VF1M   \n",
       "1  {'description': '⬇ Descargá la App de C5N para...  CJwOo9Yp3Jk   \n",
       "2  {'description': '', 'title': 'C5N - Road Music...  CbdrzQPgGpI   \n",
       "\n",
       "                                            insights  \n",
       "0  {'startDate': '2016-08-21', 'dailyShare': '6,2...  \n",
       "1  {'startDate': '2016-08-10', 'dailyShare': '0,0...  \n",
       "2  {'startDate': '2016-07-31', 'dailyShare': '5,2...  "
      ]
     },
     "execution_count": 1,
     "metadata": {},
     "output_type": "execute_result"
    }
   ],
   "source": [
    "import pandas as pd\n",
    "\n",
    "df = pd.read_json('top_news.json', lines=True)\n",
    "print('Number of rows:', df.size)\n",
    "df.head(3)"
   ]
  },
  {
   "cell_type": "code",
   "execution_count": 2,
   "id": "8626a2ad",
   "metadata": {},
   "outputs": [],
   "source": [
    "import cleanup\n",
    "topicDetails, statistics, contentDetails, snippets, insights = cleanup.cleanup() # runtime is several minutes"
   ]
  },
  {
   "cell_type": "code",
   "execution_count": 4,
   "id": "08e8cfdf",
   "metadata": {},
   "outputs": [
    {
     "data": {
      "text/html": [
       "<div>\n",
       "<style scoped>\n",
       "    .dataframe tbody tr th:only-of-type {\n",
       "        vertical-align: middle;\n",
       "    }\n",
       "\n",
       "    .dataframe tbody tr th {\n",
       "        vertical-align: top;\n",
       "    }\n",
       "\n",
       "    .dataframe thead th {\n",
       "        text-align: right;\n",
       "    }\n",
       "</style>\n",
       "<table border=\"1\" class=\"dataframe\">\n",
       "  <thead>\n",
       "    <tr style=\"text-align: right;\">\n",
       "      <th></th>\n",
       "      <th>commentCount</th>\n",
       "      <th>viewCount</th>\n",
       "      <th>favoriteCount</th>\n",
       "      <th>dislikeCount</th>\n",
       "      <th>likeCount</th>\n",
       "    </tr>\n",
       "  </thead>\n",
       "  <tbody>\n",
       "    <tr>\n",
       "      <th>0</th>\n",
       "      <td>0</td>\n",
       "      <td>701</td>\n",
       "      <td>0</td>\n",
       "      <td>0</td>\n",
       "      <td>9</td>\n",
       "    </tr>\n",
       "    <tr>\n",
       "      <th>1</th>\n",
       "      <td>0</td>\n",
       "      <td>889</td>\n",
       "      <td>0</td>\n",
       "      <td>0</td>\n",
       "      <td>10</td>\n",
       "    </tr>\n",
       "    <tr>\n",
       "      <th>2</th>\n",
       "      <td>4</td>\n",
       "      <td>12720</td>\n",
       "      <td>0</td>\n",
       "      <td>4</td>\n",
       "      <td>213</td>\n",
       "    </tr>\n",
       "  </tbody>\n",
       "</table>\n",
       "</div>"
      ],
      "text/plain": [
       "  commentCount viewCount favoriteCount dislikeCount likeCount\n",
       "0            0       701             0            0         9\n",
       "1            0       889             0            0        10\n",
       "2            4     12720             0            4       213"
      ]
     },
     "execution_count": 4,
     "metadata": {},
     "output_type": "execute_result"
    }
   ],
   "source": [
    "# Final dataframe created for the statistics column. Only showing 1 due to space limitations.\n",
    "statistics.head(3)"
   ]
  },
  {
   "cell_type": "markdown",
   "id": "29f94fcf",
   "metadata": {},
   "source": [
    "# Exploratory Data Analysis"
   ]
  },
  {
   "cell_type": "markdown",
   "id": "71cea4b8",
   "metadata": {},
   "source": [
    "The column values of the original dataframe (except the id column) contain dict values. Each record in the dataframes represents info about one video. Fox News has the most videos, and the most common video languages are English and Spanish."
   ]
  },
  {
   "cell_type": "code",
   "execution_count": 5,
   "id": "fbfe1808",
   "metadata": {},
   "outputs": [
    {
     "data": {
      "text/plain": [
       "Fox News           483\n",
       "The Young Turks    481\n",
       "ABP NEWS           460\n",
       "ABS-CBN News       459\n",
       "Zee News           458\n",
       "Name: channelTitle, dtype: int64"
      ]
     },
     "execution_count": 5,
     "metadata": {},
     "output_type": "execute_result"
    }
   ],
   "source": [
    "snippets['channelTitle'].value_counts().head()"
   ]
  },
  {
   "cell_type": "code",
   "execution_count": 6,
   "id": "a0ec6cd4",
   "metadata": {},
   "outputs": [
    {
     "data": {
      "text/plain": [
       "en    15966\n",
       "es     2083\n",
       "ar     1432\n",
       "fr     1141\n",
       "ru      938\n",
       "Name: detectLang, dtype: int64"
      ]
     },
     "execution_count": 6,
     "metadata": {},
     "output_type": "execute_result"
    }
   ],
   "source": [
    "snippets['detectLang'].value_counts().head()"
   ]
  },
  {
   "cell_type": "code",
   "execution_count": 8,
   "id": "e6dff577",
   "metadata": {},
   "outputs": [
    {
     "data": {
      "text/plain": [
       "commentCount        20.0\n",
       "viewCount        17459.0\n",
       "favoriteCount        0.0\n",
       "dislikeCount         9.0\n",
       "likeCount           77.0\n",
       "dtype: float64"
      ]
     },
     "execution_count": 8,
     "metadata": {},
     "output_type": "execute_result"
    }
   ],
   "source": [
    "statistics.median() # one number from the five-number summary"
   ]
  },
  {
   "cell_type": "markdown",
   "id": "40f54538",
   "metadata": {},
   "source": [
    "# Visualization"
   ]
  },
  {
   "cell_type": "markdown",
   "id": "86fdef0d",
   "metadata": {},
   "source": [
    "For our visualization, we chose to visualize the largest categories in the top news category. Each video in our database has a set of categories that is chosen when uploading a video. This set of categories is obtained from every video and counted in order to obtain the most popular news video genres. From the graph, we can say that by far the most popular is the \"Society\" tag, which makes sense given that top news is a video genre that primarily focuses on societal events. The most popular genres also include topics such as \"Politics\" and \"Lifestyle\", as well as \"Music\" and \"Film\". The ability to see these genres and their popularity will allow us to make further insights into the data of videos as a whole."
   ]
  },
  {
   "cell_type": "code",
   "execution_count": 15,
   "id": "8d573e78",
   "metadata": {},
   "outputs": [
    {
     "data": {
      "image/png": "[encoded data removed]",
      "text/plain": [
       "<Figure size 640x480 with 1 Axes>"
      ]
     },
     "metadata": {},
     "output_type": "display_data"
    }
   ],
   "source": [
    "import seaborn as sns\n",
    "import matplotlib.pyplot as plt\n",
    "from visualization import *\n",
    "\n",
    "makeGraph()"
   ]
  },
  {
   "cell_type": "markdown",
   "id": "20d21ab2",
   "metadata": {},
   "source": [
    "# Machine Learning Analysis"
   ]
  },
  {
   "cell_type": "markdown",
   "id": "2f20105c",
   "metadata": {},
   "source": [
    "The machine learning analysis that we wish to perform is creating a decision tree that can predict the video topic category (the target) given as attributes the dislike count and the like count. We were able to create the dataframe that takes the dislikeCount and likeCount columns from the statistics dataframe and appended the target column to it. However, we had issues creating the decision tree using this dataframe. This is something that we will accomplish for the final report."
   ]
  },
  {
   "cell_type": "code",
   "execution_count": 16,
   "id": "d79845c5",
   "metadata": {},
   "outputs": [
    {
     "data": {
      "text/html": [
       "<div>\n",
       "<style scoped>\n",
       "    .dataframe tbody tr th:only-of-type {\n",
       "        vertical-align: middle;\n",
       "    }\n",
       "\n",
       "    .dataframe tbody tr th {\n",
       "        vertical-align: top;\n",
       "    }\n",
       "\n",
       "    .dataframe thead th {\n",
       "        text-align: right;\n",
       "    }\n",
       "</style>\n",
       "<table border=\"1\" class=\"dataframe\">\n",
       "  <thead>\n",
       "    <tr style=\"text-align: right;\">\n",
       "      <th></th>\n",
       "      <th>dislikeCount</th>\n",
       "      <th>likeCount</th>\n",
       "      <th>target</th>\n",
       "    </tr>\n",
       "  </thead>\n",
       "  <tbody>\n",
       "    <tr>\n",
       "      <th>0</th>\n",
       "      <td>0</td>\n",
       "      <td>9</td>\n",
       "      <td>Pet</td>\n",
       "    </tr>\n",
       "    <tr>\n",
       "      <th>1</th>\n",
       "      <td>0</td>\n",
       "      <td>10</td>\n",
       "      <td>Entertainment</td>\n",
       "    </tr>\n",
       "    <tr>\n",
       "      <th>2</th>\n",
       "      <td>4</td>\n",
       "      <td>213</td>\n",
       "      <td>Music</td>\n",
       "    </tr>\n",
       "    <tr>\n",
       "      <th>3</th>\n",
       "      <td>1</td>\n",
       "      <td>4</td>\n",
       "      <td>Entertainment</td>\n",
       "    </tr>\n",
       "    <tr>\n",
       "      <th>4</th>\n",
       "      <td>2</td>\n",
       "      <td>10</td>\n",
       "      <td>Politics</td>\n",
       "    </tr>\n",
       "    <tr>\n",
       "      <th>...</th>\n",
       "      <td>...</td>\n",
       "      <td>...</td>\n",
       "      <td>...</td>\n",
       "    </tr>\n",
       "    <tr>\n",
       "      <th>24267</th>\n",
       "      <td>9</td>\n",
       "      <td>166</td>\n",
       "      <td>Film</td>\n",
       "    </tr>\n",
       "    <tr>\n",
       "      <th>24268</th>\n",
       "      <td>94</td>\n",
       "      <td>1125</td>\n",
       "      <td>Food</td>\n",
       "    </tr>\n",
       "    <tr>\n",
       "      <th>24269</th>\n",
       "      <td>55</td>\n",
       "      <td>291</td>\n",
       "      <td>Society</td>\n",
       "    </tr>\n",
       "    <tr>\n",
       "      <th>24270</th>\n",
       "      <td>17</td>\n",
       "      <td>181</td>\n",
       "      <td>Food</td>\n",
       "    </tr>\n",
       "    <tr>\n",
       "      <th>24271</th>\n",
       "      <td>13</td>\n",
       "      <td>205</td>\n",
       "      <td>Lifestyle_(sociology)</td>\n",
       "    </tr>\n",
       "  </tbody>\n",
       "</table>\n",
       "<p>24272 rows × 3 columns</p>\n",
       "</div>"
      ],
      "text/plain": [
       "      dislikeCount likeCount                 target\n",
       "0                0         9                    Pet\n",
       "1                0        10          Entertainment\n",
       "2                4       213                  Music\n",
       "3                1         4          Entertainment\n",
       "4                2        10               Politics\n",
       "...            ...       ...                    ...\n",
       "24267            9       166                   Film\n",
       "24268           94      1125                   Food\n",
       "24269           55       291                Society\n",
       "24270           17       181                   Food\n",
       "24271           13       205  Lifestyle_(sociology)\n",
       "\n",
       "[24272 rows x 3 columns]"
      ]
     },
     "execution_count": 16,
     "metadata": {},
     "output_type": "execute_result"
    }
   ],
   "source": [
    "import machine_learning\n",
    "machine_learning.analyze()"
   ]
  },
  {
   "cell_type": "markdown",
   "id": "39eb8b99",
   "metadata": {},
   "source": [
    "# Reflection"
   ]
  },
  {
   "cell_type": "markdown",
   "id": "19a9effc",
   "metadata": {},
   "source": [
    "The hardest part of the project we've encountered so far is determining the main question, the data cleaning, and the machine learning analysis. From our initial visualization, we know that the most popular category is \"Society\". We also noticed that daily views naturally decline over time. The visualization is our concrete result as of now. However, in the coming weeks, we will make further insights into the video data. The current biggest challenge we face right now is performing a meaningful machine learning analysis on the data, so this will be something we need to dedicate more time towards. We believe that we are on track with our project as the dataset we have explored so far matches the project scope. Therefore, we believe it is worth proceeding with our project. Our analysis can help content creators understand what topics lead to higher viewer engagement."
   ]
  },
  {
   "cell_type": "markdown",
   "id": "08647ebc",
   "metadata": {},
   "source": [
    "# Next Steps"
   ]
  },
  {
   "cell_type": "markdown",
   "id": "db86c71f",
   "metadata": {},
   "source": [
    "This month, we plan to accomplish the following: 2 machine learning or statistical analysis techniques, 2 distinct visualizations, 1 extra deliverable, and in-depth analysis. Our evaluation of whether these goals were met will consist of counting the number of distinct deliverables (at least 5) and the number of interesting insights (at least 5)."
   ]
  }
 ],
 "metadata": {
  "kernelspec": {
   "display_name": "Python 3 (ipykernel)",
   "language": "python",
   "name": "python3"
  },
  "language_info": {
   "codemirror_mode": {
    "name": "ipython",
    "version": 3
   },
   "file_extension": ".py",
   "mimetype": "text/x-python",
   "name": "python",
   "nbconvert_exporter": "python",
   "pygments_lexer": "ipython3",
   "version": "3.9.7"
  }
 },
 "nbformat": 4,
 "nbformat_minor": 5
}
